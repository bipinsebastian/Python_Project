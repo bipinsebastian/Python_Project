{
 "cells": [
  {
   "cell_type": "code",
   "execution_count": 45,
   "metadata": {},
   "outputs": [],
   "source": [
    "import pandas as pd\n",
    "import matplotlib.pyplot as plt"
   ]
  },
  {
   "cell_type": "code",
   "execution_count": 46,
   "metadata": {},
   "outputs": [],
   "source": [
    "import pandas as pd\n",
    "import matplotlib.pyplot as plt\n",
    "from typing import List, Tuple\n",
    "from datetime import datetime\n",
    "\n",
    "class DogAttackData:\n",
    "    def __init__(self, file_path: str):\n",
    "        self.data = pd.read_csv(r'C:\\Users\\Gymnasiet\\floeder for python\\data-hw-bipinsebastian\\projects\\project 2\\dog_attacks.csv')\n",
    "        self.data['Date'] = pd.to_datetime(self.data['Date'])  # Convert Date column to datetime\n",
    "\n",
    "    def attacks_per_year(self) -> pd.Series:\n",
    "        return self.data['Date'].dt.year.value_counts().sort_index()\n",
    "\n",
    "    def attacks_per_month_per_year(self) -> pd.DataFrame:\n",
    "        self.data['Year'] = self.data['Date'].dt.year\n",
    "        self.data['Month'] = self.data['Date'].dt.month\n",
    "        return self.data.groupby(['Year', 'Month']).size().unstack(level=0, fill_value=0)\n",
    "\n",
    "    def top_states_between_years(self, start_year: int, end_year: int) -> pd.Series:\n",
    "        filtered_data = self.data[(self.data['Date'].dt.year >= start_year) & (self.data['Date'].dt.year <= end_year)]\n",
    "        return filtered_data['State'].value_counts().head(3)\n",
    "\n",
    "    def attacks_by_age_group(self) -> pd.Series:\n",
    "        def categorize_age(age):\n",
    "            if age <= 17:\n",
    "                return 'minor'\n",
    "            elif 18 <= age <= 65:\n",
    "                return 'adult'\n",
    "            else:\n",
    "                return 'older adult'\n",
    "        \n",
    "        self.data['Age Group'] = self.data['Age'].apply(categorize_age)\n",
    "        return self.data['Age Group'].value_counts()\n",
    "\n",
    "    def attacks_by_breed(self) -> pd.Series:\n",
    "        return self.data['Breed'].value_counts()\n",
    "\n",
    "\n",
    "\n",
    "\n",
    "\n"
   ]
  },
  {
   "cell_type": "code",
   "execution_count": 47,
   "metadata": {},
   "outputs": [],
   "source": [
    "# Visualizations\n",
    "def plot_attacks_per_year(data: DogAttackData):\n",
    "    attacks_per_year = data.attacks_per_year()\n",
    "    attacks_per_year.plot(kind='bar', title=\"Dog Attacks Per Year\")\n",
    "    plt.xlabel(\"Year\")\n",
    "    plt.ylabel(\"Number of Attacks\")\n",
    "    plt.show()\n"
   ]
  },
  {
   "cell_type": "code",
   "execution_count": 48,
   "metadata": {},
   "outputs": [],
   "source": [
    "def plot_attacks_per_month_per_year(data: DogAttackData):\n",
    "    monthly_attacks = data.attacks_per_month_per_year()\n",
    "    monthly_attacks.plot(title=\"Dog Attacks Per Month Per Year\")\n",
    "    plt.xlabel(\"Month\")\n",
    "    plt.ylabel(\"Number of Attacks\")\n",
    "    plt.legend(title=\"Year\")\n",
    "    plt.show()\n"
   ]
  },
  {
   "cell_type": "code",
   "execution_count": 49,
   "metadata": {},
   "outputs": [],
   "source": [
    "def plot_top_states(data: DogAttackData, start_year: int, end_year: int):\n",
    "    top_states = data.top_states_between_years(start_year, end_year)\n",
    "    top_states.plot(kind='bar', title=f\"Top 3 States with Most Dog Attacks ({start_year}-{end_year})\")\n",
    "    plt.xlabel(\"State\")\n",
    "    plt.ylabel(\"Number of Attacks\")\n",
    "    plt.show()\n"
   ]
  },
  {
   "cell_type": "code",
   "execution_count": 50,
   "metadata": {},
   "outputs": [],
   "source": [
    "def plot_attacks_by_age_group(data: DogAttackData):\n",
    "    age_groups = data.attacks_by_age_group()\n",
    "    age_groups.plot(kind='bar', title=\"Dog Attacks by Age Group\")\n",
    "    plt.xlabel(\"Age Group\")\n",
    "    plt.ylabel(\"Number of Attacks\")\n",
    "    plt.show()\n"
   ]
  },
  {
   "cell_type": "code",
   "execution_count": 51,
   "metadata": {},
   "outputs": [],
   "source": [
    "def plot_attacks_by_breed(data: DogAttackData):\n",
    "    breeds = data.attacks_by_breed()\n",
    "    breeds.plot(kind='bar', title=\"Dog Attacks by Breed\")\n",
    "    plt.xlabel(\"Breed\")\n",
    "    plt.ylabel(\"Number of Attacks\")\n",
    "    plt.show()\n"
   ]
  }
 ],
 "metadata": {
  "kernelspec": {
   "display_name": "Python 3",
   "language": "python",
   "name": "python3"
  },
  "language_info": {
   "codemirror_mode": {
    "name": "ipython",
    "version": 3
   },
   "file_extension": ".py",
   "mimetype": "text/x-python",
   "name": "python",
   "nbconvert_exporter": "python",
   "pygments_lexer": "ipython3",
   "version": "3.12.7"
  }
 },
 "nbformat": 4,
 "nbformat_minor": 2
}
